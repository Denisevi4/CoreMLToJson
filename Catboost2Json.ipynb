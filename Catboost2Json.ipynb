{
 "cells": [
  {
   "cell_type": "code",
   "execution_count": 1,
   "metadata": {},
   "outputs": [
    {
     "name": "stdout",
     "output_type": "stream",
     "text": [
      "0:\tlearn: 13.6167789\ttotal: 48.2ms\tremaining: 48.2ms\n",
      "1:\tlearn: 9.7168239\ttotal: 49.9ms\tremaining: 0us\n"
     ]
    }
   ],
   "source": [
    "from catboost import CatBoostRegressor\n",
    "# Initialize data\n",
    "train_data = [[1,4,5,6],[4,5,6,7],[30,40,50,60]]\n",
    "test_data = [[2,4,6,8],[1,4,50,60]]\n",
    "train_labels = [10,20,30]\n",
    "# Initialize CatBoostRegressor\n",
    "model = CatBoostRegressor(iterations=2, learning_rate=1, depth=2)\n",
    "# Fit model\n",
    "model.fit(train_data, train_labels)\n",
    "# Get predictions\n",
    "preds = model.predict(test_data)"
   ]
  },
  {
   "cell_type": "code",
   "execution_count": 2,
   "metadata": {},
   "outputs": [
    {
     "data": {
      "text/plain": [
       "catboost.core.CatBoostRegressor"
      ]
     },
     "execution_count": 2,
     "metadata": {},
     "output_type": "execute_result"
    }
   ],
   "source": [
    "model.__class__"
   ]
  },
  {
   "cell_type": "code",
   "execution_count": 3,
   "metadata": {
    "collapsed": true
   },
   "outputs": [],
   "source": [
    "model.save_model(\"tmp/test2.coreml\", format=\"coreml\")"
   ]
  },
  {
   "cell_type": "code",
   "execution_count": 4,
   "metadata": {
    "collapsed": true
   },
   "outputs": [],
   "source": [
    "from coreml_to_json import coreml_to_json"
   ]
  },
  {
   "cell_type": "code",
   "execution_count": 5,
   "metadata": {},
   "outputs": [
    {
     "data": {
      "text/plain": [
       "{'description': {'input': [{'name': 'feature_2', 'type': {'doubleType': {}}},\n",
       "   {'name': 'feature_3', 'type': {'doubleType': {}}}],\n",
       "  'metadata': {'author': 'Mr. Catboost Dumper',\n",
       "   'shortDescription': 'Catboost model',\n",
       "   'versionString': '1.0.0'},\n",
       "  'output': [{'name': 'prediction',\n",
       "    'type': {'multiArrayType': {'dataType': 65600, 'shape': [1]}}}],\n",
       "  'predictedFeatureName': 'prediction',\n",
       "  'predictedProbabilitiesName': 'prediction'},\n",
       " 'specificationVersion': 1,\n",
       " 'treeEnsembleRegressor': {'treeEnsemble': {'basePredictionValue': [0.0],\n",
       "   'nodes': [{'evaluationInfo': [{'evaluationValue': 2.5}], 'nodeBehavior': 6},\n",
       "    {'evaluationInfo': [{'evaluationValue': 10.0}],\n",
       "     'nodeBehavior': 6,\n",
       "     'nodeId': 1},\n",
       "    {'branchFeatureIndex': 3,\n",
       "     'branchFeatureValue': 6.5,\n",
       "     'nodeBehavior': 3,\n",
       "     'nodeId': 2,\n",
       "     'trueChildNodeId': 1},\n",
       "    {'evaluationInfo': [{'evaluationValue': 3.5}],\n",
       "     'nodeBehavior': 6,\n",
       "     'treeId': 1},\n",
       "    {'evaluationInfo': [{'evaluationValue': 5.0}],\n",
       "     'nodeBehavior': 6,\n",
       "     'nodeId': 1,\n",
       "     'treeId': 1},\n",
       "    {'branchFeatureIndex': 3,\n",
       "     'branchFeatureValue': 6.5,\n",
       "     'nodeBehavior': 3,\n",
       "     'nodeId': 2,\n",
       "     'treeId': 1,\n",
       "     'trueChildNodeId': 1}],\n",
       "   'numPredictionDimensions': 1}}}"
      ]
     },
     "execution_count": 5,
     "metadata": {},
     "output_type": "execute_result"
    }
   ],
   "source": [
    "model_json = coreml_to_json(\"tmp/test2.coreml\")\n",
    "model_json"
   ]
  }
 ],
 "metadata": {
  "kernelspec": {
   "display_name": "Python 3",
   "language": "python",
   "name": "python3"
  },
  "language_info": {
   "codemirror_mode": {
    "name": "ipython",
    "version": 3
   },
   "file_extension": ".py",
   "mimetype": "text/x-python",
   "name": "python",
   "nbconvert_exporter": "python",
   "pygments_lexer": "ipython3",
   "version": "3.6.1"
  }
 },
 "nbformat": 4,
 "nbformat_minor": 2
}
