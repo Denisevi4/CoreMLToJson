{
 "cells": [
  {
   "cell_type": "code",
   "execution_count": 19,
   "metadata": {},
   "outputs": [
    {
     "name": "stdout",
     "output_type": "stream",
     "text": [
      "0:\tlearn: 33.8693876\ttotal: 746us\tremaining: 1.49ms\n",
      "1:\tlearn: 25.8317608\ttotal: 1.08ms\tremaining: 538us\n",
      "2:\tlearn: 20.5643828\ttotal: 1.32ms\tremaining: 0us\n"
     ]
    }
   ],
   "source": [
    "from catboost import CatBoostRegressor\n",
    "# Initialize data\n",
    "train_data = [[1,4,5,6],[4,5,6,7],[30,40,50,60], [30,40,70,60], [10,40,70,60], [90,40,70,60]]\n",
    "test_data = [[2,4,6,8],[1,4,50,60]]\n",
    "train_labels = [10,20,30,50, 60, 70]\n",
    "# Initialize CatBoostRegressor\n",
    "model = CatBoostRegressor(iterations=3, learning_rate=0.5, depth=4)\n",
    "# Fit mode\n",
    "model.fit(train_data, train_labels)\n",
    "# Get predictions\n",
    "preds = model.predict(test_data)"
   ]
  },
  {
   "cell_type": "code",
   "execution_count": 2,
   "metadata": {},
   "outputs": [
    {
     "data": {
      "text/plain": [
       "catboost.core.CatBoostRegressor"
      ]
     },
     "execution_count": 2,
     "metadata": {},
     "output_type": "execute_result"
    }
   ],
   "source": [
    "model.__class__"
   ]
  },
  {
   "cell_type": "code",
   "execution_count": 20,
   "metadata": {
    "collapsed": true
   },
   "outputs": [],
   "source": [
    "model.save_model(\"tmp/test2.coreml\", format=\"coreml\")"
   ]
  },
  {
   "cell_type": "code",
   "execution_count": 9,
   "metadata": {},
   "outputs": [],
   "source": [
    "from coreml_to_json import coreml_to_json"
   ]
  },
  {
   "cell_type": "code",
   "execution_count": 21,
   "metadata": {},
   "outputs": [
    {
     "data": {
      "text/plain": [
       "{'description': {'input': [{'name': 'feature_0', 'type': {'doubleType': {}}},\n",
       "   {'name': 'feature_1', 'type': {'doubleType': {}}},\n",
       "   {'name': 'feature_2', 'type': {'doubleType': {}}},\n",
       "   {'name': 'feature_3', 'type': {'doubleType': {}}}],\n",
       "  'metadata': {'author': 'Mr. Catboost Dumper',\n",
       "   'shortDescription': 'Catboost model',\n",
       "   'versionString': '1.0.0'},\n",
       "  'output': [{'name': 'prediction',\n",
       "    'type': {'multiArrayType': {'dataType': 65600, 'shape': [1]}}}],\n",
       "  'predictedFeatureName': 'prediction',\n",
       "  'predictedProbabilitiesName': 'prediction'},\n",
       " 'specificationVersion': 1,\n",
       " 'treeEnsembleRegressor': {'treeEnsemble': {'basePredictionValue': [0.0],\n",
       "   'nodes': [{'evaluationInfo': [{'evaluationValue': 1.25}],\n",
       "     'nodeBehavior': 'LeafNode'},\n",
       "    {'evaluationInfo': [{'evaluationValue': 2.5}],\n",
       "     'nodeBehavior': 'LeafNode',\n",
       "     'nodeId': 1},\n",
       "    {'evaluationInfo': [{}], 'nodeBehavior': 'LeafNode', 'nodeId': 2},\n",
       "    {'evaluationInfo': [{'evaluationValue': 15.0}],\n",
       "     'nodeBehavior': 'LeafNode',\n",
       "     'nodeId': 3},\n",
       "    {'branchFeatureValue': 2.5,\n",
       "     'nodeBehavior': 'BranchOnValueGreaterThan',\n",
       "     'nodeId': 4,\n",
       "     'trueChildNodeId': 1},\n",
       "    {'branchFeatureValue': 2.5,\n",
       "     'falseChildNodeId': 2,\n",
       "     'nodeBehavior': 'BranchOnValueGreaterThan',\n",
       "     'nodeId': 5,\n",
       "     'trueChildNodeId': 3},\n",
       "    {'branchFeatureValue': 2.5,\n",
       "     'falseChildNodeId': 4,\n",
       "     'nodeBehavior': 'BranchOnValueGreaterThan',\n",
       "     'nodeId': 6,\n",
       "     'trueChildNodeId': 5},\n",
       "    {'evaluationInfo': [{'evaluationValue': 2.625}],\n",
       "     'nodeBehavior': 'LeafNode',\n",
       "     'treeId': 1},\n",
       "    {'evaluationInfo': [{'evaluationValue': 10.714285714285714}],\n",
       "     'nodeBehavior': 'LeafNode',\n",
       "     'nodeId': 1,\n",
       "     'treeId': 1},\n",
       "    {'branchFeatureValue': 2.5,\n",
       "     'nodeBehavior': 'BranchOnValueGreaterThan',\n",
       "     'nodeId': 2,\n",
       "     'treeId': 1,\n",
       "     'trueChildNodeId': 1},\n",
       "    {'evaluationInfo': [{'evaluationValue': 0.765625}],\n",
       "     'nodeBehavior': 'LeafNode',\n",
       "     'treeId': 2},\n",
       "    {'evaluationInfo': [{}],\n",
       "     'nodeBehavior': 'LeafNode',\n",
       "     'nodeId': 1,\n",
       "     'treeId': 2},\n",
       "    {'evaluationInfo': [{'evaluationValue': 1.859375}],\n",
       "     'nodeBehavior': 'LeafNode',\n",
       "     'nodeId': 2,\n",
       "     'treeId': 2},\n",
       "    {'evaluationInfo': [{'evaluationValue': 7.653061224489796}],\n",
       "     'nodeBehavior': 'LeafNode',\n",
       "     'nodeId': 3,\n",
       "     'treeId': 2},\n",
       "    {'branchFeatureValue': 2.5,\n",
       "     'nodeBehavior': 'BranchOnValueGreaterThan',\n",
       "     'nodeId': 4,\n",
       "     'treeId': 2,\n",
       "     'trueChildNodeId': 1},\n",
       "    {'branchFeatureValue': 2.5,\n",
       "     'falseChildNodeId': 2,\n",
       "     'nodeBehavior': 'BranchOnValueGreaterThan',\n",
       "     'nodeId': 5,\n",
       "     'treeId': 2,\n",
       "     'trueChildNodeId': 3},\n",
       "    {'branchFeatureValue': 2.5,\n",
       "     'falseChildNodeId': 4,\n",
       "     'nodeBehavior': 'BranchOnValueGreaterThan',\n",
       "     'nodeId': 6,\n",
       "     'treeId': 2,\n",
       "     'trueChildNodeId': 5}],\n",
       "   'numPredictionDimensions': 1}}}"
      ]
     },
     "execution_count": 21,
     "metadata": {},
     "output_type": "execute_result"
    }
   ],
   "source": [
    "model_json = coreml_to_json(\"tmp/test2.coreml\")\n",
    "model_json"
   ]
  },
  {
   "cell_type": "code",
   "execution_count": 22,
   "metadata": {
    "scrolled": true
   },
   "outputs": [
    {
     "data": {
      "text/plain": [
       "{'basePredictionValue': [0.0],\n",
       " 'nodes': [{'evaluationInfo': [{'evaluationValue': 1.25}],\n",
       "   'nodeBehavior': 'LeafNode'},\n",
       "  {'evaluationInfo': [{'evaluationValue': 2.5}],\n",
       "   'nodeBehavior': 'LeafNode',\n",
       "   'nodeId': 1},\n",
       "  {'evaluationInfo': [{}], 'nodeBehavior': 'LeafNode', 'nodeId': 2},\n",
       "  {'evaluationInfo': [{'evaluationValue': 15.0}],\n",
       "   'nodeBehavior': 'LeafNode',\n",
       "   'nodeId': 3},\n",
       "  {'branchFeatureValue': 2.5,\n",
       "   'nodeBehavior': 'BranchOnValueGreaterThan',\n",
       "   'nodeId': 4,\n",
       "   'trueChildNodeId': 1},\n",
       "  {'branchFeatureValue': 2.5,\n",
       "   'falseChildNodeId': 2,\n",
       "   'nodeBehavior': 'BranchOnValueGreaterThan',\n",
       "   'nodeId': 5,\n",
       "   'trueChildNodeId': 3},\n",
       "  {'branchFeatureValue': 2.5,\n",
       "   'falseChildNodeId': 4,\n",
       "   'nodeBehavior': 'BranchOnValueGreaterThan',\n",
       "   'nodeId': 6,\n",
       "   'trueChildNodeId': 5},\n",
       "  {'evaluationInfo': [{'evaluationValue': 2.625}],\n",
       "   'nodeBehavior': 'LeafNode',\n",
       "   'treeId': 1},\n",
       "  {'evaluationInfo': [{'evaluationValue': 10.714285714285714}],\n",
       "   'nodeBehavior': 'LeafNode',\n",
       "   'nodeId': 1,\n",
       "   'treeId': 1},\n",
       "  {'branchFeatureValue': 2.5,\n",
       "   'nodeBehavior': 'BranchOnValueGreaterThan',\n",
       "   'nodeId': 2,\n",
       "   'treeId': 1,\n",
       "   'trueChildNodeId': 1},\n",
       "  {'evaluationInfo': [{'evaluationValue': 0.765625}],\n",
       "   'nodeBehavior': 'LeafNode',\n",
       "   'treeId': 2},\n",
       "  {'evaluationInfo': [{}],\n",
       "   'nodeBehavior': 'LeafNode',\n",
       "   'nodeId': 1,\n",
       "   'treeId': 2},\n",
       "  {'evaluationInfo': [{'evaluationValue': 1.859375}],\n",
       "   'nodeBehavior': 'LeafNode',\n",
       "   'nodeId': 2,\n",
       "   'treeId': 2},\n",
       "  {'evaluationInfo': [{'evaluationValue': 7.653061224489796}],\n",
       "   'nodeBehavior': 'LeafNode',\n",
       "   'nodeId': 3,\n",
       "   'treeId': 2},\n",
       "  {'branchFeatureValue': 2.5,\n",
       "   'nodeBehavior': 'BranchOnValueGreaterThan',\n",
       "   'nodeId': 4,\n",
       "   'treeId': 2,\n",
       "   'trueChildNodeId': 1},\n",
       "  {'branchFeatureValue': 2.5,\n",
       "   'falseChildNodeId': 2,\n",
       "   'nodeBehavior': 'BranchOnValueGreaterThan',\n",
       "   'nodeId': 5,\n",
       "   'treeId': 2,\n",
       "   'trueChildNodeId': 3},\n",
       "  {'branchFeatureValue': 2.5,\n",
       "   'falseChildNodeId': 4,\n",
       "   'nodeBehavior': 'BranchOnValueGreaterThan',\n",
       "   'nodeId': 6,\n",
       "   'treeId': 2,\n",
       "   'trueChildNodeId': 5}],\n",
       " 'numPredictionDimensions': 1}"
      ]
     },
     "execution_count": 22,
     "metadata": {},
     "output_type": "execute_result"
    }
   ],
   "source": [
    "model_json[\"treeEnsembleRegressor\"][\"treeEnsemble\"]"
   ]
  },
  {
   "cell_type": "code",
   "execution_count": 12,
   "metadata": {},
   "outputs": [
    {
     "data": {
      "text/plain": [
       "dict_keys(['nodes', 'numPredictionDimensions', 'basePredictionValue'])"
      ]
     },
     "execution_count": 12,
     "metadata": {},
     "output_type": "execute_result"
    }
   ],
   "source": [
    "model_json[\"treeEnsembleRegressor\"][\"treeEnsemble\"].keys()"
   ]
  },
  {
   "cell_type": "code",
   "execution_count": 23,
   "metadata": {
    "scrolled": true
   },
   "outputs": [
    {
     "data": {
      "text/plain": [
       "[{'evaluationInfo': [{'evaluationValue': 1.25}], 'nodeBehavior': 'LeafNode'},\n",
       " {'evaluationInfo': [{'evaluationValue': 2.5}],\n",
       "  'nodeBehavior': 'LeafNode',\n",
       "  'nodeId': 1},\n",
       " {'evaluationInfo': [{}], 'nodeBehavior': 'LeafNode', 'nodeId': 2},\n",
       " {'evaluationInfo': [{'evaluationValue': 15.0}],\n",
       "  'nodeBehavior': 'LeafNode',\n",
       "  'nodeId': 3},\n",
       " {'branchFeatureValue': 2.5,\n",
       "  'nodeBehavior': 'BranchOnValueGreaterThan',\n",
       "  'nodeId': 4,\n",
       "  'trueChildNodeId': 1},\n",
       " {'branchFeatureValue': 2.5,\n",
       "  'falseChildNodeId': 2,\n",
       "  'nodeBehavior': 'BranchOnValueGreaterThan',\n",
       "  'nodeId': 5,\n",
       "  'trueChildNodeId': 3},\n",
       " {'branchFeatureValue': 2.5,\n",
       "  'falseChildNodeId': 4,\n",
       "  'nodeBehavior': 'BranchOnValueGreaterThan',\n",
       "  'nodeId': 6,\n",
       "  'trueChildNodeId': 5},\n",
       " {'evaluationInfo': [{'evaluationValue': 2.625}],\n",
       "  'nodeBehavior': 'LeafNode',\n",
       "  'treeId': 1},\n",
       " {'evaluationInfo': [{'evaluationValue': 10.714285714285714}],\n",
       "  'nodeBehavior': 'LeafNode',\n",
       "  'nodeId': 1,\n",
       "  'treeId': 1},\n",
       " {'branchFeatureValue': 2.5,\n",
       "  'nodeBehavior': 'BranchOnValueGreaterThan',\n",
       "  'nodeId': 2,\n",
       "  'treeId': 1,\n",
       "  'trueChildNodeId': 1},\n",
       " {'evaluationInfo': [{'evaluationValue': 0.765625}],\n",
       "  'nodeBehavior': 'LeafNode',\n",
       "  'treeId': 2},\n",
       " {'evaluationInfo': [{}],\n",
       "  'nodeBehavior': 'LeafNode',\n",
       "  'nodeId': 1,\n",
       "  'treeId': 2},\n",
       " {'evaluationInfo': [{'evaluationValue': 1.859375}],\n",
       "  'nodeBehavior': 'LeafNode',\n",
       "  'nodeId': 2,\n",
       "  'treeId': 2},\n",
       " {'evaluationInfo': [{'evaluationValue': 7.653061224489796}],\n",
       "  'nodeBehavior': 'LeafNode',\n",
       "  'nodeId': 3,\n",
       "  'treeId': 2},\n",
       " {'branchFeatureValue': 2.5,\n",
       "  'nodeBehavior': 'BranchOnValueGreaterThan',\n",
       "  'nodeId': 4,\n",
       "  'treeId': 2,\n",
       "  'trueChildNodeId': 1},\n",
       " {'branchFeatureValue': 2.5,\n",
       "  'falseChildNodeId': 2,\n",
       "  'nodeBehavior': 'BranchOnValueGreaterThan',\n",
       "  'nodeId': 5,\n",
       "  'treeId': 2,\n",
       "  'trueChildNodeId': 3},\n",
       " {'branchFeatureValue': 2.5,\n",
       "  'falseChildNodeId': 4,\n",
       "  'nodeBehavior': 'BranchOnValueGreaterThan',\n",
       "  'nodeId': 6,\n",
       "  'treeId': 2,\n",
       "  'trueChildNodeId': 5}]"
      ]
     },
     "execution_count": 23,
     "metadata": {},
     "output_type": "execute_result"
    }
   ],
   "source": [
    "model_json[\"treeEnsembleRegressor\"][\"treeEnsemble\"][\"nodes\"]"
   ]
  },
  {
   "cell_type": "code",
   "execution_count": 24,
   "metadata": {},
   "outputs": [
    {
     "name": "stdout",
     "output_type": "stream",
     "text": [
      "{'nodeBehavior': 'LeafNode', 'evaluationInfo': [{'evaluationValue': 1.25}]}\n",
      "{'nodeId': 1, 'nodeBehavior': 'LeafNode', 'evaluationInfo': [{'evaluationValue': 2.5}]}\n",
      "{'nodeId': 2, 'nodeBehavior': 'LeafNode', 'evaluationInfo': [{}]}\n",
      "{'nodeId': 3, 'nodeBehavior': 'LeafNode', 'evaluationInfo': [{'evaluationValue': 15.0}]}\n",
      "{'nodeId': 4, 'nodeBehavior': 'BranchOnValueGreaterThan', 'branchFeatureValue': 2.5, 'trueChildNodeId': 1}\n",
      "{'nodeId': 5, 'nodeBehavior': 'BranchOnValueGreaterThan', 'branchFeatureValue': 2.5, 'trueChildNodeId': 3, 'falseChildNodeId': 2}\n",
      "{'nodeId': 6, 'nodeBehavior': 'BranchOnValueGreaterThan', 'branchFeatureValue': 2.5, 'trueChildNodeId': 5, 'falseChildNodeId': 4}\n",
      "{'treeId': 1, 'nodeBehavior': 'LeafNode', 'evaluationInfo': [{'evaluationValue': 2.625}]}\n",
      "{'treeId': 1, 'nodeId': 1, 'nodeBehavior': 'LeafNode', 'evaluationInfo': [{'evaluationValue': 10.714285714285714}]}\n",
      "{'treeId': 1, 'nodeId': 2, 'nodeBehavior': 'BranchOnValueGreaterThan', 'branchFeatureValue': 2.5, 'trueChildNodeId': 1}\n",
      "{'treeId': 2, 'nodeBehavior': 'LeafNode', 'evaluationInfo': [{'evaluationValue': 0.765625}]}\n",
      "{'treeId': 2, 'nodeId': 1, 'nodeBehavior': 'LeafNode', 'evaluationInfo': [{}]}\n",
      "{'treeId': 2, 'nodeId': 2, 'nodeBehavior': 'LeafNode', 'evaluationInfo': [{'evaluationValue': 1.859375}]}\n",
      "{'treeId': 2, 'nodeId': 3, 'nodeBehavior': 'LeafNode', 'evaluationInfo': [{'evaluationValue': 7.653061224489796}]}\n",
      "{'treeId': 2, 'nodeId': 4, 'nodeBehavior': 'BranchOnValueGreaterThan', 'branchFeatureValue': 2.5, 'trueChildNodeId': 1}\n",
      "{'treeId': 2, 'nodeId': 5, 'nodeBehavior': 'BranchOnValueGreaterThan', 'branchFeatureValue': 2.5, 'trueChildNodeId': 3, 'falseChildNodeId': 2}\n",
      "{'treeId': 2, 'nodeId': 6, 'nodeBehavior': 'BranchOnValueGreaterThan', 'branchFeatureValue': 2.5, 'trueChildNodeId': 5, 'falseChildNodeId': 4}\n"
     ]
    }
   ],
   "source": [
    "for inode in model_json[\"treeEnsembleRegressor\"][\"treeEnsemble\"][\"nodes\"]:\n",
    "    print(inode)"
   ]
  }
 ],
 "metadata": {
  "kernelspec": {
   "display_name": "Python 3",
   "language": "python",
   "name": "python3"
  },
  "language_info": {
   "codemirror_mode": {
    "name": "ipython",
    "version": 3
   },
   "file_extension": ".py",
   "mimetype": "text/x-python",
   "name": "python",
   "nbconvert_exporter": "python",
   "pygments_lexer": "ipython3",
   "version": "3.6.1"
  }
 },
 "nbformat": 4,
 "nbformat_minor": 2
}
